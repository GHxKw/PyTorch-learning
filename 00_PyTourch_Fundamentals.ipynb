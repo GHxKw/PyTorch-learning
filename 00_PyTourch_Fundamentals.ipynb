{
  "nbformat": 4,
  "nbformat_minor": 0,
  "metadata": {
    "colab": {
      "provenance": [],
      "authorship_tag": "ABX9TyMl/g10o2q37v4//n9B16xv",
      "include_colab_link": true
    },
    "kernelspec": {
      "name": "python3",
      "display_name": "Python 3"
    },
    "language_info": {
      "name": "python"
    }
  },
  "cells": [
    {
      "cell_type": "markdown",
      "metadata": {
        "id": "view-in-github",
        "colab_type": "text"
      },
      "source": [
        "<a href=\"https://colab.research.google.com/github/GHxKw/Unity-Games/blob/main/00_PyTourch_Fundamentals.ipynb\" target=\"_parent\"><img src=\"https://colab.research.google.com/assets/colab-badge.svg\" alt=\"Open In Colab\"/></a>"
      ]
    },
    {
      "cell_type": "markdown",
      "source": [
        "## 00. PyTorch Fundamentals\n",
        "\n",
        "\n",
        "Resource: https://www.learnpytorch.io/00_pytorch_fundamentals/"
      ],
      "metadata": {
        "id": "MwFcum76iuEq"
      }
    },
    {
      "cell_type": "code",
      "source": [
        "import torch\n",
        "import pandas as pd\n",
        "import numpy as np\n",
        "import matplotlib.pyplot as plt\n",
        "print(torch.__version__)"
      ],
      "metadata": {
        "colab": {
          "base_uri": "https://localhost:8080/"
        },
        "id": "UvdjBwvOi7gg",
        "outputId": "f5804276-4ca7-4900-d054-67ac2dae3ea7"
      },
      "execution_count": 3,
      "outputs": [
        {
          "output_type": "stream",
          "name": "stdout",
          "text": [
            "2.0.1+cu118\n"
          ]
        }
      ]
    },
    {
      "cell_type": "code",
      "execution_count": 4,
      "metadata": {
        "colab": {
          "base_uri": "https://localhost:8080/"
        },
        "id": "39Z_yxC4hzGr",
        "outputId": "4e69e96f-2e74-4152-af23-9d547cba2d20"
      },
      "outputs": [
        {
          "output_type": "stream",
          "name": "stdout",
          "text": [
            "Hello I'm excited to learn PyTorch!\n"
          ]
        }
      ],
      "source": [
        "print(\"Hello I'm excited to learn PyTorch!\")"
      ]
    },
    {
      "cell_type": "code",
      "source": [
        "!nvidia-smi"
      ],
      "metadata": {
        "colab": {
          "base_uri": "https://localhost:8080/"
        },
        "id": "Z_iL7vwTiYa7",
        "outputId": "71ec30c2-4cd9-4f6e-8010-2dd15c648443"
      },
      "execution_count": 5,
      "outputs": [
        {
          "output_type": "stream",
          "name": "stdout",
          "text": [
            "/bin/bash: line 1: nvidia-smi: command not found\n"
          ]
        }
      ]
    },
    {
      "cell_type": "markdown",
      "source": [
        "## Introduction to Tensors\n",
        "\n",
        "### Creating tensors\n",
        "\n",
        "PyTorch tensor are created using 'torch.Tensor()'"
      ],
      "metadata": {
        "id": "r3dhSkKknbRm"
      }
    },
    {
      "cell_type": "markdown",
      "source": [
        "## SCALAR"
      ],
      "metadata": {
        "id": "PNmLz251pnc6"
      }
    },
    {
      "cell_type": "code",
      "source": [
        "#scalar\n",
        "scalar =  torch.tensor(7)\n",
        "print('The value of this scalar is', scalar,\n",
        "      '\\nThe dimension of the scalar is', scalar.ndim,\n",
        "      '\\nThe item in this scalar is', scalar.item(),\n",
        "      '\\nThe shape of the scalar is', scalar.shape)"
      ],
      "metadata": {
        "colab": {
          "base_uri": "https://localhost:8080/"
        },
        "id": "PSo9AGqTnhrX",
        "outputId": "51adc723-539c-48be-c601-31c101fb13b3"
      },
      "execution_count": 31,
      "outputs": [
        {
          "output_type": "stream",
          "name": "stdout",
          "text": [
            "The value of this scalar is tensor(7) \n",
            "The dimension of the scalar is 0 \n",
            "The item in this scalar is 7 \n",
            "The shape of the scalar is torch.Size([])\n"
          ]
        }
      ]
    },
    {
      "cell_type": "code",
      "source": [
        "# Vector\n",
        "vector  = torch.tensor([7,7])\n",
        "print('The value of this vector is', vector,\n",
        "      '\\nThe dimension of the vector is', vector.ndim,\n",
        "      '\\nThe shape of the vector is', vector.shape)"
      ],
      "metadata": {
        "colab": {
          "base_uri": "https://localhost:8080/"
        },
        "id": "4hzaUM8OotOc",
        "outputId": "512ffe44-790d-468b-bfd8-49bb577a9fd7"
      },
      "execution_count": 33,
      "outputs": [
        {
          "output_type": "stream",
          "name": "stdout",
          "text": [
            "The value of this vector is tensor([7, 7]) \n",
            "The dimension of the vector is 1 \n",
            "The shape of the vector is torch.Size([2])\n"
          ]
        }
      ]
    },
    {
      "cell_type": "code",
      "source": [
        "# MATRIX\n",
        "\n",
        "MATRIX = torch.tensor([[7,8],\n",
        "                      [9,10]])\n",
        "print('The value of this MATRIX is', MATRIX,\n",
        "      '\\nThe dimension of the MATRIX is', MATRIX.ndim,\n",
        "      '\\nThe shape of the MATRIX is', MATRIX.shape)"
      ],
      "metadata": {
        "colab": {
          "base_uri": "https://localhost:8080/"
        },
        "id": "45ZLCh1qpMQt",
        "outputId": "fc84a14c-6bb7-43e7-8d8f-e65e20ed013a"
      },
      "execution_count": 36,
      "outputs": [
        {
          "output_type": "stream",
          "name": "stdout",
          "text": [
            "The value of this MATRIX is tensor([[ 7,  8],\n",
            "        [ 9, 10]]) \n",
            "The dimension of the MATRIX is 2 \n",
            "The shape of the MATRIX is torch.Size([2, 2])\n"
          ]
        }
      ]
    },
    {
      "cell_type": "code",
      "source": [
        "# The 0th & 1st axis of the MATRIX\n",
        "\n",
        "print(MATRIX[0],MATRIX[1])"
      ],
      "metadata": {
        "colab": {
          "base_uri": "https://localhost:8080/"
        },
        "id": "UMSqYYkbrjrK",
        "outputId": "66d405a3-6637-46f7-bd56-77eedebcf70c"
      },
      "execution_count": 40,
      "outputs": [
        {
          "output_type": "stream",
          "name": "stdout",
          "text": [
            "tensor([7, 8]) tensor([ 9, 10])\n"
          ]
        }
      ]
    },
    {
      "cell_type": "code",
      "source": [
        "# TENSOR\n",
        "\n",
        "TENSOR = torch.tensor([[[1,2,3],\n",
        "                        [3,6,9],\n",
        "                        [2,4,5]]])\n",
        "TENSOR"
      ],
      "metadata": {
        "colab": {
          "base_uri": "https://localhost:8080/"
        },
        "id": "5LXxt69Ar-_f",
        "outputId": "9c666772-4729-4936-cec6-00d07b75c2fb"
      },
      "execution_count": 43,
      "outputs": [
        {
          "output_type": "execute_result",
          "data": {
            "text/plain": [
              "tensor([[[1, 2, 3],\n",
              "         [3, 6, 9],\n",
              "         [2, 4, 5]]])"
            ]
          },
          "metadata": {},
          "execution_count": 43
        }
      ]
    },
    {
      "cell_type": "code",
      "source": [
        "TENSOR.ndim"
      ],
      "metadata": {
        "colab": {
          "base_uri": "https://localhost:8080/"
        },
        "id": "_Bo1DqRVsChW",
        "outputId": "c54bab02-5197-4751-c4ed-77e14b18629a"
      },
      "execution_count": 45,
      "outputs": [
        {
          "output_type": "execute_result",
          "data": {
            "text/plain": [
              "3"
            ]
          },
          "metadata": {},
          "execution_count": 45
        }
      ]
    },
    {
      "cell_type": "code",
      "source": [
        "TENSOR.shape"
      ],
      "metadata": {
        "colab": {
          "base_uri": "https://localhost:8080/"
        },
        "id": "ph_uTnHasbCz",
        "outputId": "5d983d49-75c8-4930-c6bf-62f1696a612f"
      },
      "execution_count": 48,
      "outputs": [
        {
          "output_type": "execute_result",
          "data": {
            "text/plain": [
              "torch.Size([1, 3, 3])"
            ]
          },
          "metadata": {},
          "execution_count": 48
        }
      ]
    },
    {
      "cell_type": "code",
      "source": [
        "TENSOR[0,1,2]"
      ],
      "metadata": {
        "colab": {
          "base_uri": "https://localhost:8080/"
        },
        "id": "pyy8Jsydst5P",
        "outputId": "369bc878-7bd4-4a28-f3b1-01a35696138b"
      },
      "execution_count": 56,
      "outputs": [
        {
          "output_type": "execute_result",
          "data": {
            "text/plain": [
              "tensor(9)"
            ]
          },
          "metadata": {},
          "execution_count": 56
        }
      ]
    }
  ]
}